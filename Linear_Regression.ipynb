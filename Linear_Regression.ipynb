{
 "cells": [
  {
   "cell_type": "raw",
   "metadata": {},
   "source": [
    "Author: Ambareesh Ravi\n",
    "Date: 21-01-2020\n",
    "Title: Linear Regression\n",
    "\n",
    "Links and References:\n",
    "    Datasets:\n",
    "        -Boston Housing dataset: http://lib.stat.cmu.edu/datasets/boston\n",
    "        \n",
    "    Papers:\n",
    "        -\n",
    "        \n",
    "    Lectures, tutorials, articles and posts:\n",
    "        - http://www.mit.edu/~6.s085/notes/lecture3.pdf\n",
    "        \n",
    "    Additional comments / notes:\n",
    "        - Not optimized as it is built from scratch without any high level library / APIs\n",
    "        - Can be replaced by simple function call from scikit learn"
   ]
  },
  {
   "cell_type": "code",
   "execution_count": 1,
   "metadata": {},
   "outputs": [],
   "source": [
    "import numpy as np\n",
    "import matplotlib.pyplot as plt\n",
    "from tqdm import tqdm\n",
    "from utils.losses import mean_squared_error"
   ]
  },
  {
   "cell_type": "code",
   "execution_count": 2,
   "metadata": {},
   "outputs": [],
   "source": [
    "def preprocess_data(data_file = \"datasets/boston_housing_data\"):\n",
    "    '''\n",
    "    Description:\n",
    "        Function to preprocess Boston Housing data\n",
    "    Args:\n",
    "        data_file: path to the data file as <str>\n",
    "    Returns:\n",
    "        preprocessed_data: data as <numpy array>\n",
    "    Exception:\n",
    "        general exception\n",
    "    '''\n",
    "    \n",
    "    # Read data\n",
    "    with open(data_file, \"r\") as f:\n",
    "        data = f.read()\n",
    "        \n",
    "    # Remove unwanted stuff\n",
    "    data = data.replace(\"\\n  \", \"  \") # remove irregular new line characters\n",
    "    data = data.replace(\"   \", \"  \") # convert triple-spaces to double spaces\n",
    "    data = data.replace(\"  \", \" \") # convert double spaces to single spaces\n",
    "    samples = [d[1:] for d in data.split(\"\\n\")] # remove the leading space\n",
    "    actual_samples = samples[22:] # Actual data starts from line 23\n",
    "    \n",
    "    # Extract samples\n",
    "    error_count = 0\n",
    "    X = list()\n",
    "    y = list()\n",
    "    for sample in actual_samples:\n",
    "        try:\n",
    "            sample = np.array([float(i) for i in sample.split(\" \")])\n",
    "            X.append(sample[:-1])\n",
    "            y.append(sample[-1])\n",
    "        except:\n",
    "            error_count += 1\n",
    "            continue\n",
    "    print(\"Ommitted %d erroneous samples\"%(error_count))\n",
    "    return np.array(X), np.array(y) # Return as NumPy array\n",
    "\n",
    "class stochaistic_gradient_descent:\n",
    "    def __init__(self, J, dJ, learning_rate = 0.00000001, max_iterations = 1000, precision = 1e-4):\n",
    "        self.learning_rate = learning_rate # how much to update\n",
    "        self.max_iterations = max_iterations # when to stop\n",
    "        self.precision = precision # how precise the values are to be\n",
    "        self.J = J # loss function\n",
    "        self.dJ = dJ # first derivative of the loss function\n",
    "        self.loss_history = list()\n",
    "        \n",
    "    def run_SGD(self, X, Y, theta):\n",
    "        for i in range(self.max_iterations):\n",
    "            prev_theta = theta\n",
    "            theta -= self.learning_rate * dJ(X, Y, theta)\n",
    "            if np.all([abs(pt - ct) < self.precision for pt, ct in zip(prev_theta, theta)]) < 1: break\n",
    "        loss = self.J(calc_h(theta, X), Y)\n",
    "        self.loss_history.append(loss)\n",
    "        return theta\n",
    "\n",
    "def add_X_bias(x):\n",
    "    return x    \n",
    "    # [1] is for adding bias as such and to simplify math\n",
    "    return np.concatenate((x,[1]), axis = 0)\n",
    "\n",
    "def h(theta, x):\n",
    "    # hypothesis function\n",
    "    return np.dot(theta, add_X_bias(x))\n",
    "\n",
    "def calc_h(theta, X):\n",
    "    # calculates the value of hypothesis function for each of the sample\n",
    "    return np.array([h(theta, x) for x in X.tolist()])\n",
    "\n",
    "def dJ(X, Y, theta):\n",
    "    # dervivative of mse\n",
    "    return ((2/len(X[0])) * np.dot(np.transpose(np.array([add_X_bias(x) for x in X])), (calc_h(theta, X) - Y)))\n",
    "\n",
    "def linear_regression(X, Y, iterations = 2000):\n",
    "    # weights to find\n",
    "    theta = np.zeros(X[0].shape[-1]) # + 1) # theta_array[-1] -> bias\n",
    "    \n",
    "    for i in tqdm(range(iterations)):\n",
    "        # forward pass\n",
    "        # predicted = calc_h(theta, X)\n",
    "\n",
    "        # back propagation\n",
    "        theta = sgd.run_SGD(X, Y,theta)       \n",
    "    return theta"
   ]
  },
  {
   "cell_type": "code",
   "execution_count": 3,
   "metadata": {},
   "outputs": [
    {
     "name": "stdout",
     "output_type": "stream",
     "text": [
      "Ommitted 9 erroneous samples\n"
     ]
    }
   ],
   "source": [
    "X, y = preprocess_data() # or you can simply load directly from sklearn\n",
    "loss = mean_squared_error # replace any other loss of choice\n",
    "X, Y, X_t, Y_t = X[:400], y[:400], X[400:], y[400:] # splitting train and test set"
   ]
  },
  {
   "cell_type": "code",
   "execution_count": 4,
   "metadata": {},
   "outputs": [
    {
     "name": "stderr",
     "output_type": "stream",
     "text": [
      "100%|██████████| 1000/1000 [23:49<00:00,  1.43s/it]\n"
     ]
    }
   ],
   "source": [
    "sgd = stochaistic_gradient_descent(mean_squared_error, dJ)\n",
    "best_theta = linear_regression(X,Y) # find best theta"
   ]
  },
  {
   "cell_type": "code",
   "execution_count": 7,
   "metadata": {},
   "outputs": [
    {
     "data": {
      "image/png": "[encoded data removed]",
      "text/plain": [
       "<Figure size 432x288 with 1 Axes>"
      ]
     },
     "metadata": {
      "needs_background": "light"
     },
     "output_type": "display_data"
    }
   ],
   "source": [
    "plt.plot(sgd.loss_history)\n",
    "plt.show()"
   ]
  },
  {
   "cell_type": "code",
   "execution_count": 8,
   "metadata": {},
   "outputs": [
    {
     "data": {
      "text/plain": [
       "array([-0.03629758,  0.07774522,  0.07491332,  0.17135818,  0.07617256,\n",
       "        1.70765115,  0.07742786, -0.47371365,  0.14900265, -0.00769677,\n",
       "       -0.1313014 ,  0.059086  , -0.8772889 ])"
      ]
     },
     "execution_count": 8,
     "metadata": {},
     "output_type": "execute_result"
    }
   ],
   "source": [
    "best_theta"
   ]
  },
  {
   "cell_type": "code",
   "execution_count": 9,
   "metadata": {},
   "outputs": [],
   "source": [
    "def evaluate():\n",
    "    test_prediction = calc_h(best_theta, X_t)\n",
    "    print(mean_squared_error(test_prediction, Y_t))"
   ]
  },
  {
   "cell_type": "code",
   "execution_count": 10,
   "metadata": {},
   "outputs": [
    {
     "name": "stdout",
     "output_type": "stream",
     "text": [
      "85.08636860733205\n"
     ]
    }
   ],
   "source": [
    "evaluate()"
   ]
  },
  {
   "cell_type": "code",
   "execution_count": null,
   "metadata": {},
   "outputs": [],
   "source": []
  }
 ],
 "metadata": {
  "kernelspec": {
   "display_name": "Python 3",
   "language": "python",
   "name": "python3"
  },
  "language_info": {
   "codemirror_mode": {
    "name": "ipython",
    "version": 3
   },
   "file_extension": ".py",
   "mimetype": "text/x-python",
   "name": "python",
   "nbconvert_exporter": "python",
   "pygments_lexer": "ipython3",
   "version": "3.6.9"
  }
 },
 "nbformat": 4,
 "nbformat_minor": 4
}
