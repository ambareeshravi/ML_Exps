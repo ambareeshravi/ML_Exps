{
 "cells": [
  {
   "cell_type": "raw",
   "metadata": {},
   "source": [
    "Author: Ambareesh Ravi\n",
    "Date: dd-mm-2020\n",
    "Title: *Title*\n",
    "\n",
    "Links and References:\n",
    "\n",
    "Datasets:\n",
    "    -\n",
    "Papers:\n",
    "    -\n",
    "Articles and posts:\n",
    "    -\n",
    "Additional comments / notes:\n",
    "    -"
   ]
  },
  {
   "cell_type": "code",
   "execution_count": null,
   "metadata": {},
   "outputs": [],
   "source": [
    "def function(args):\n",
    "    '''\n",
    "    Description:\n",
    "        Function description   \n",
    "    Args:\n",
    "        -\n",
    "    Returns:\n",
    "        -\n",
    "    Exception:\n",
    "        General Exception\n",
    "    '''"
   ]
  }
 ],
 "metadata": {
  "kernelspec": {
   "display_name": "Python 3",
   "language": "python",
   "name": "python3"
  },
  "language_info": {
   "codemirror_mode": {
    "name": "ipython",
    "version": 3
   },
   "file_extension": ".py",
   "mimetype": "text/x-python",
   "name": "python",
   "nbconvert_exporter": "python",
   "pygments_lexer": "ipython3",
   "version": "3.6.9"
  }
 },
 "nbformat": 4,
 "nbformat_minor": 4
}
