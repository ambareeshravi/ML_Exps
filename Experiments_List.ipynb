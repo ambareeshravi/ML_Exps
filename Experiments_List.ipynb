{
 "cells": [
  {
   "cell_type": "code",
   "execution_count": 1,
   "metadata": {},
   "outputs": [],
   "source": [
    "import json\n",
    "from pprint import pprint"
   ]
  },
  {
   "cell_type": "code",
   "execution_count": 4,
   "metadata": {},
   "outputs": [],
   "source": [
    "def get_d(toPrint = False):\n",
    "    with open(\"list.json\", \"r\") as f:\n",
    "        d = json.load(f)\n",
    "    if toPrint: pprint(d)\n",
    "    return d\n",
    "\n",
    "def add(key_list, value):\n",
    "    d = get_d(True)\n",
    "    try:\n",
    "        access_key = d\n",
    "        if len(key_list) > 0:\n",
    "            for key in key_list:\n",
    "                access_key = access_key[key]\n",
    "            access_key.append(value)\n",
    "            with open(\"list.json\", \"w\") as f:\n",
    "                json.dump(experiments, f)\n",
    "            return True\n",
    "    except Exception as e:\n",
    "        print(\"ERROR:\", e)\n",
    "        return False"
   ]
  },
  {
   "cell_type": "code",
   "execution_count": 5,
   "metadata": {},
   "outputs": [
    {
     "data": {
      "text/plain": [
       "{'traditional': {'similarity_based': ['KNN',\n",
       "   'SVM',\n",
       "   'Linear Regression',\n",
       "   'Logisitc Regression'],\n",
       "  'density_based': ['Parzen Window'],\n",
       "  'others': ['Maximum Likelhood Estimation', 'Expectation Maximization'],\n",
       "  'tree_based': ['Decison_trees',\n",
       "   'Random Forests',\n",
       "   'Bagging',\n",
       "   'Boosting',\n",
       "   'AdaBoost',\n",
       "   'Isolation Forest',\n",
       "   'XGBoost']},\n",
       " 'semi-supervised': [],\n",
       " 'unsupervised': [],\n",
       " 'reinforcement_learning': [],\n",
       " 'supervised': [],\n",
       " 'algorithms': ['SGD'],\n",
       " 'losses': ['MAE', 'MSE', 'cross_entropy']}"
      ]
     },
     "execution_count": 5,
     "metadata": {},
     "output_type": "execute_result"
    }
   ],
   "source": [
    "get_d()"
   ]
  },
  {
   "cell_type": "code",
   "execution_count": 38,
   "metadata": {},
   "outputs": [],
   "source": [
    "# Naive Bayes\n",
    "# PCA\n",
    "# LDA"
   ]
  },
  {
   "cell_type": "code",
   "execution_count": null,
   "metadata": {},
   "outputs": [],
   "source": []
  }
 ],
 "metadata": {
  "kernelspec": {
   "display_name": "Python 3",
   "language": "python",
   "name": "python3"
  },
  "language_info": {
   "codemirror_mode": {
    "name": "ipython",
    "version": 3
   },
   "file_extension": ".py",
   "mimetype": "text/x-python",
   "name": "python",
   "nbconvert_exporter": "python",
   "pygments_lexer": "ipython3",
   "version": "3.6.9"
  }
 },
 "nbformat": 4,
 "nbformat_minor": 4
}
