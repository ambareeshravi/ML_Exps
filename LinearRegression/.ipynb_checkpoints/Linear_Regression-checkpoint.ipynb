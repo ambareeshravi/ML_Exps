{
 "cells": [
  {
   "cell_type": "raw",
   "metadata": {},
   "source": [
    "Author: Ambareesh Ravi\n",
    "Date: 21-01-2020\n",
    "Title: Linear Regression\n",
    "\n",
    "Links and References:\n",
    "    Datasets:\n",
    "        -Boston Housing dataset: http://lib.stat.cmu.edu/datasets/boston\n",
    "        \n",
    "    Papers:\n",
    "        -\n",
    "        \n",
    "    Lectures, tutorials, articles and posts:\n",
    "        - http://www.mit.edu/~6.s085/notes/lecture3.pdf\n",
    "        \n",
    "    Additional comments / notes:\n",
    "        - Not optimized as it is built from scratch without any high level library / APIs\n",
    "        - Can be replaced by simple function call from scikit-learn"
   ]
  },
  {
   "cell_type": "code",
   "execution_count": 4,
   "metadata": {},
   "outputs": [
    {
     "ename": "ValueError",
     "evalue": "attempted relative import beyond top-level package",
     "output_type": "error",
     "traceback": [
      "\u001b[0;31m---------------------------------------------------------------------------\u001b[0m",
      "\u001b[0;31mValueError\u001b[0m                                Traceback (most recent call last)",
      "\u001b[0;32m<ipython-input-4-f59695c721ef>\u001b[0m in \u001b[0;36m<module>\u001b[0;34m\u001b[0m\n\u001b[1;32m      2\u001b[0m \u001b[0;32mimport\u001b[0m \u001b[0mmatplotlib\u001b[0m\u001b[0;34m.\u001b[0m\u001b[0mpyplot\u001b[0m \u001b[0;32mas\u001b[0m \u001b[0mplt\u001b[0m\u001b[0;34m\u001b[0m\u001b[0;34m\u001b[0m\u001b[0m\n\u001b[1;32m      3\u001b[0m \u001b[0;32mfrom\u001b[0m \u001b[0mtqdm\u001b[0m \u001b[0;32mimport\u001b[0m \u001b[0mtqdm\u001b[0m\u001b[0;34m\u001b[0m\u001b[0;34m\u001b[0m\u001b[0m\n\u001b[0;32m----> 4\u001b[0;31m \u001b[0;32mfrom\u001b[0m \u001b[0;34m.\u001b[0m\u001b[0;34m.\u001b[0m\u001b[0mutils\u001b[0m\u001b[0;34m.\u001b[0m\u001b[0mlosses\u001b[0m \u001b[0;32mimport\u001b[0m \u001b[0mmean_squared_error\u001b[0m\u001b[0;34m\u001b[0m\u001b[0;34m\u001b[0m\u001b[0m\n\u001b[0m",
      "\u001b[0;31mValueError\u001b[0m: attempted relative import beyond top-level package"
     ]
    }
   ],
   "source": [
    "import numpy as np\n",
    "import matplotlib.pyplot as plt\n",
    "from tqdm import tqdm\n",
    "from ..utils.losses import mean_squared_error"
   ]
  },
  {
   "cell_type": "code",
   "execution_count": 2,
   "metadata": {},
   "outputs": [],
   "source": [
    "def preprocess_data(data_file = \"datasets/boston_housing_data\"):\n",
    "    '''\n",
    "    Description:\n",
    "        Function to preprocess Boston Housing data\n",
    "    Args:\n",
    "        data_file: path to the data file as <str>\n",
    "    Returns:\n",
    "        preprocessed_data: data as <numpy array>\n",
    "    Exception:\n",
    "        general exception\n",
    "    '''\n",
    "    \n",
    "    # Read data\n",
    "    with open(data_file, \"r\") as f:\n",
    "        data = f.read()\n",
    "        \n",
    "    # Remove unwanted stuff\n",
    "    data = data.replace(\"\\n  \", \"  \") # remove irregular new line characters\n",
    "    data = data.replace(\"   \", \"  \") # convert triple-spaces to double spaces\n",
    "    data = data.replace(\"  \", \" \") # convert double spaces to single spaces\n",
    "    samples = [d[1:] for d in data.split(\"\\n\")] # remove the leading space\n",
    "    actual_samples = samples[22:] # Actual data starts from line 23\n",
    "    \n",
    "    # Extract samples\n",
    "    error_count = 0\n",
    "    X = list()\n",
    "    y = list()\n",
    "    for sample in actual_samples:\n",
    "        try:\n",
    "            sample = np.array([float(i) for i in sample.split(\" \")])\n",
    "            X.append(sample[:-1])\n",
    "            y.append(sample[-1])\n",
    "        except:\n",
    "            error_count += 1\n",
    "            continue\n",
    "    print(\"Ommitted %d erroneous samples\"%(error_count))\n",
    "    return scale_features(np.array(X)), np.array(y) # Return as NumPy array\n",
    "\n",
    "def scale_features(X): # normlization for uniformity\n",
    "    return np.transpose(np.array([x/max(x) for x in np.transpose(X)]))\n",
    "\n",
    "class stochaistic_gradient_descent:\n",
    "    def __init__(self, J, dJ, learning_rate = 0.01, max_iterations = 1500, precision = 1e-4):\n",
    "        self.learning_rate = learning_rate # how much to update\n",
    "        self.max_iterations = max_iterations # when to stop\n",
    "        self.precision = precision # how precise the values are to be\n",
    "        self.J = J # loss function\n",
    "        self.dJ = dJ # first derivative of the loss function\n",
    "        self.loss_history = list()\n",
    "        self.stop_count = 0\n",
    "        \n",
    "    def run_SGD(self, X, Y, theta):\n",
    "        for i in range(self.max_iterations):\n",
    "            prev_theta = theta\n",
    "            theta -= self.learning_rate * self.dJ(X, Y, theta)\n",
    "            if np.all([abs(pt - ct) < self.precision for pt, ct in zip(prev_theta, theta)]) < 1: self.stop_count += 1; break\n",
    "            loss = self.J(theta, X, Y)\n",
    "            self.loss_history.append(loss)\n",
    "        return theta, self.loss_history\n",
    "\n",
    "def add_X_bias(x):\n",
    "    return x    \n",
    "    # [1] is for adding bias as such and to simplify math\n",
    "    return np.concatenate((x,[1]), axis = 0)\n",
    "\n",
    "def h(theta, x):\n",
    "    # hypothesis function\n",
    "    return np.dot(theta, add_X_bias(x))\n",
    "\n",
    "def calc_h(theta, X):\n",
    "    # calculates the value of hypothesis function for each of the sample\n",
    "    return np.array([h(theta, x) for x in X.tolist()])\n",
    "\n",
    "def dJ(X, Y, theta):\n",
    "    # dervivative of mse\n",
    "    return ((2/len(X[:,0])) * np.dot(np.transpose(np.array([add_X_bias(x) for x in X])), (calc_h(theta, X) - Y)))\n",
    "\n",
    "def linear_regression(X, Y):\n",
    "    # weights to find\n",
    "    theta = np.zeros(X[0].shape[-1]) # + 1) # theta_array[-1] -> bias\n",
    "    \n",
    "    # forward pass\n",
    "    # predicted = calc_h(theta, X)\n",
    "\n",
    "    return sgd.run_SGD(X, Y,theta)\n",
    "    "
   ]
  },
  {
   "cell_type": "code",
   "execution_count": 3,
   "metadata": {},
   "outputs": [
    {
     "name": "stdout",
     "output_type": "stream",
     "text": [
      "Ommitted 9 erroneous samples\n"
     ]
    }
   ],
   "source": [
    "X, y = preprocess_data() # or you can simply load directly from sklearn\n",
    "loss = mean_squared_error # replace any other loss of choice\n",
    "X, Y, X_t, Y_t = X[:400], y[:400], X[400:], y[400:] # splitting train and test set"
   ]
  },
  {
   "cell_type": "code",
   "execution_count": 4,
   "metadata": {},
   "outputs": [],
   "source": [
    "sgd = stochaistic_gradient_descent(mean_squared_error, dJ)\n",
    "best_theta, loss_list = linear_regression(X,Y) # find best theta"
   ]
  },
  {
   "cell_type": "code",
   "execution_count": 5,
   "metadata": {},
   "outputs": [
    {
     "data": {
      "image/png": "[encoded data removed]",
      "text/plain": [
       "<Figure size 432x288 with 1 Axes>"
      ]
     },
     "metadata": {
      "needs_background": "light"
     },
     "output_type": "display_data"
    }
   ],
   "source": [
    "plt.plot(loss_list)\n",
    "plt.show()"
   ]
  },
  {
   "cell_type": "code",
   "execution_count": 6,
   "metadata": {},
   "outputs": [
    {
     "data": {
      "text/plain": [
       "array([ -2.10987402,   5.78008195,  -3.40875172,   4.77173915,\n",
       "         4.82514386,  19.2561078 ,   1.74637377,  -0.58113752,\n",
       "        -0.35819562,  -0.72511919,   1.3635513 ,  10.89509266,\n",
       "       -15.09288003])"
      ]
     },
     "execution_count": 6,
     "metadata": {},
     "output_type": "execute_result"
    }
   ],
   "source": [
    "best_theta"
   ]
  },
  {
   "cell_type": "code",
   "execution_count": 7,
   "metadata": {},
   "outputs": [],
   "source": [
    "def evaluate():\n",
    "    test_prediction = calc_h(best_theta, X_t)\n",
    "    print(mean_squared_error(test_prediction, Y_t))"
   ]
  },
  {
   "cell_type": "code",
   "execution_count": 8,
   "metadata": {},
   "outputs": [
    {
     "name": "stdout",
     "output_type": "stream",
     "text": [
      "24.260513914144894\n"
     ]
    }
   ],
   "source": [
    "evaluate()"
   ]
  },
  {
   "cell_type": "code",
   "execution_count": 10,
   "metadata": {},
   "outputs": [],
   "source": [
    "import pickle\n",
    "with open(\"best_theta.pkl\", \"wb\") as f:\n",
    "    pickle.dump(best_theta, f) # saving as a backup"
   ]
  },
  {
   "cell_type": "code",
   "execution_count": null,
   "metadata": {},
   "outputs": [],
   "source": []
  }
 ],
 "metadata": {
  "kernelspec": {
   "display_name": "Python 3",
   "language": "python",
   "name": "python3"
  },
  "language_info": {
   "codemirror_mode": {
    "name": "ipython",
    "version": 3
   },
   "file_extension": ".py",
   "mimetype": "text/x-python",
   "name": "python",
   "nbconvert_exporter": "python",
   "pygments_lexer": "ipython3",
   "version": "3.6.9"
  }
 },
 "nbformat": 4,
 "nbformat_minor": 4
}
